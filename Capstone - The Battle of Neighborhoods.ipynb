{
    "cells": [
        {
            "cell_type": "markdown",
            "metadata": {
                "collapsed": true
            },
            "source": "<h1>A description of the problem and a discussion of the background</h1>\n\nThe aim of this project is to find an optimal location in Oxfordshire, Oxford, to open a pub offering a wide variety of foods and drinks. This report will focus on central Oxford, which is a very popular tourist destination. \n\nAs Oxford is always busy and the University of Oxford is located here, the city has numerous restaurants and pubs already, so finding a place for a pub is not easy. However as there is large demand on pubs and restaurants, it seems a good choice to invest \u2013 most of the pubs are crowded and during peak periods it can be impossible to find a place to sit in. \n\nOxford has a long history; the town has beautiful medieval narrow streets and historical buildings just as modern shopping centres and museums. The difficulty of finding a place is the lack of area in the city centre. The narrow paths and roads are sometimes overcrowded already making it more difficult to find a location for opening a pub.\n\nWe\u2019ll try to detect locations which are close to the city centre and not too crowded already \u2013 however as mentioned above, there is a large demand on pubs and restaurants so a crowded area does not mean instantly that we need to reject our project. "
        },
        {
            "cell_type": "markdown",
            "metadata": {},
            "source": "<h1>A description of the data and how it will be used to solve the problem</h1>\n\nIn order to proceed with the project, we need to find location data (e.g. post code, city names, areas, neighbourhoods, coordinates). We can use the internet to gather this information, such as Wikipedia or Doogal. \n\nWe\u2019ll consider the followings when trying to determine the ideal location for a pub:\n-\tNumber of existing pubs in the neighbourhood\n-\tDistance from the city centre\n\nOnce we\u2019ll have our data from the defined data sources, we\u2019ll need to read them into a Pandas dataframe. This will help us work with the data. We\u2019ll use Foursquare API to find venues in the city centre of Oxford. We\u2019ll visualize the map of Oxford to help us identify potential places for opening a pub.\n"
        }
    ],
    "metadata": {
        "kernelspec": {
            "display_name": "Python 3.7",
            "language": "python",
            "name": "python3"
        },
        "language_info": {
            "codemirror_mode": {
                "name": "ipython",
                "version": 3
            },
            "file_extension": ".py",
            "mimetype": "text/x-python",
            "name": "python",
            "nbconvert_exporter": "python",
            "pygments_lexer": "ipython3",
            "version": "3.7.9"
        }
    },
    "nbformat": 4,
    "nbformat_minor": 1
}